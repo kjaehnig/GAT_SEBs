{
 "cells": [
  {
   "cell_type": "code",
   "execution_count": 1,
   "id": "c30c7b6b-eea3-4152-a943-6a9396aa8096",
   "metadata": {},
   "outputs": [
    {
     "name": "stdout",
     "output_type": "stream",
     "text": [
      "running on macOS\n"
     ]
    }
   ],
   "source": [
    "from helper_functions import *\n"
   ]
  },
  {
   "cell_type": "code",
   "execution_count": 36,
   "id": "f6d8904d-f265-4f85-b0fd-f81b4ad1c3c0",
   "metadata": {},
   "outputs": [],
   "source": [
    "def write_a_story_for_system(TIC_TARGET='TIC 20215452', model_type='1x',\n",
    "                    Ntune=1000, Ndraw=500, chains=4, return_dict=False):\n",
    "\n",
    "    file = open(f\"/Users/kjaehnig/CCA_work/GAT/pymc3_models/{TIC_TARGET}_pymc3_Nt{Ntune}_Nd{Ndraw}_Nc{chains}_individual_priors_{model_type}_isochrones.pickle\",'rb')\n",
    "    res_dict = pk.load(file)\n",
    "    file.close()\n",
    "\n",
    "    flat_samps = res_dict['trace'].posterior.stack(sample=('chain','draw'))\n",
    "\n",
    "    m1 = flat_samps['M1'].median().values\n",
    "    r1 = flat_samps['R1'].median().values\n",
    "    logg1 = np.log(m1) - 2.*np.log(r1) + 4.437\n",
    "    stype1 = print_out_stellar_type(m1,r1)\n",
    "\n",
    "    m2 = flat_samps['M2'].median().values\n",
    "    r2 = flat_samps['R2'].median().values\n",
    "    logg2 = np.log(m2) - 2.*np.log(r2) + 4.437\n",
    "    stype2 = print_out_stellar_type(m2,r2)\n",
    "\n",
    "    a = flat_samps['a'].median().values\n",
    "    incl = flat_samps['incl'].median().values\n",
    "    ecc = flat_samps['ecc'].median().values\n",
    "    period = flat_samps['period'].median().values\n",
    "    omega = flat_samps['omega'].median().values\n",
    "\n",
    "    print(f\"Report on {TIC_TARGET}.\")\n",
    "    print(f\"M1 has a mass: {m1:.3f} Msol, radius: {r1:.3f} Rsol, logG: {logg1:3f} and stellar type {stype1}\")\n",
    "    print(f\"M2 has a mass: {m2:.3f} Msol, radius: {r2:.3f} Rsol, logG: {logg2:3f} and stellar type {stype2}\")\n",
    "    print(f\"The binary system has inclination: {incl:.3f}, semi-major axis: {a:.3f} AU, and ecc: {ecc:3f}.\")\n",
    "    print(f\"This binary system has a period of {period:.3f} days.\")\n",
    "\n",
    "    if return_dict:\n",
    "        return {'m1':float(m1),'r1':float(r1),'logg1':logg1,'stype1':stype1,\n",
    "                'm2':float(m2),'r2':float(r2),'logg2':logg2,'stype2':stype2,\n",
    "                'a':a,'incl':incl,'ecc':ecc,'period':period, 'omega':omega}\n",
    "\n",
    "\n",
    "def get_nearest_eep_from_logg(TIC_ID):\n",
    "\n",
    "\n",
    "    eep_dict = {1: 'PMS',\n",
    "         202: 'ZAMS',\n",
    "         353: 'IAMS',\n",
    "         454: 'TAMS',\n",
    "         605: 'RGBTip',\n",
    "         631: 'ZAHB',\n",
    "         707: 'TAHB',\n",
    "         808: 'TPAGB',\n",
    "         1409: 'post-AGB',\n",
    "         1710: 'WDCS'}\n",
    "    primary_eeps = np.array([1, 202, 353, 454, 605, 631, 707, 808, 1409, 1710])\n",
    "\n",
    "    ticparams = get_system_data_for_pymc3_model(TIC_ID.replace(' ','_').replace('-','_'))\n",
    "\n",
    "    FEH = np.float64(ticparams[0]['joker_param']['FE_H'])\n",
    "\n",
    "    sysparams = write_a_story_for_system(TIC_TARGET=TIC_ID,\n",
    "                                        model_type='8x',chains=6,return_dict=True)\n",
    "\n",
    "    print(sysparams)\n",
    "    M1,LOGG1 = sysparams['m1'],sysparams['logg1']\n",
    "    M2,LOGG2 = sysparams['m2'],sysparams['logg2']\n",
    "\n",
    "    valid_eep1,valid_eep2 = [],[]\n",
    "\n",
    "    ages = np.linspace(6, 10.12, 25000)\n",
    "\n",
    "    from isochrones.mist import MIST_EvolutionTrack\n",
    "    mtrack = MIST_EvolutionTrack()\n",
    "\n",
    "    for iage in tqdm(ages):\n",
    "        try:\n",
    "            test_eep1 = mtrack.get_eep_accurate(mass=M1, age=iage, feh=FEH)\n",
    "            valid_eep1.append(test_eep1)\n",
    "        except:\n",
    "            continue\n",
    "\n",
    "        try:\n",
    "            test_eep2 = mtrack.get_eep_accurate(mass=M2, age=iage, feh=FEH)\n",
    "            valid_eep2.append(test_eep2)\n",
    "        except:\n",
    "            continue \n",
    "    print(len(valid_eep1), len(valid_eep2))\n",
    "    valid_logg1 = [mtrack.interp_value([M1, ee, FEH], ['logg'])[0] for ee in valid_eep1]\n",
    "    valid_logg2 = [mtrack.interp_value([M2, ee, FEH], ['logg'])[0] for ee in valid_eep2]\n",
    "\n",
    "    closest_ind1 = np.argmin(abs(np.array(valid_logg1) - LOGG1))\n",
    "    closest_ind2 = np.argmin(abs(np.array(valid_logg2) - LOGG2))\n",
    "    \n",
    "    closest_eep1 = valid_eep1[closest_ind1]\n",
    "    closest_eep2 = valid_eep2[closest_ind2]\n",
    "        \n",
    "    closest_state1 = primary_eeps[np.argmin(abs(primary_eeps - closest_eep1))]\n",
    "    closest_state2 = primary_eeps[np.argmin(abs(primary_eeps - closest_eep2))]\n",
    "        \n",
    "    print(f'M1 appears to be in the {eep_dict[closest_state1]} state')\n",
    "    print(f'M2 appears to be in the {eep_dict[closest_state2]} state')\n"
   ]
  },
  {
   "cell_type": "code",
   "execution_count": 35,
   "id": "4902585d-1527-47e4-8ca0-30291483af49",
   "metadata": {},
   "outputs": [
    {
     "name": "stdout",
     "output_type": "stream",
     "text": [
      "Report on TIC 28159019.\n",
      "M1 has a mass: 0.999 Msol, radius: 1.854 Rsol, logG: 3.201226 and stellar type None\n",
      "M2 has a mass: 0.298 Msol, radius: 0.325 Rsol, logG: 5.474251 and stellar type M\n",
      "The binary system has inclination: 1.544, semi-major axis: 12.727 AU, and ecc: 0.003001.\n",
      "This binary system has a period of 4.619 days.\n",
      "{'m1': 0.9992000594809247, 'r1': 1.854261906387822, 'logg1': 3.2012262938618363, 'stype1': 'None', 'm2': 0.2976318753310539, 'r2': 0.32479064782718825, 'logg2': 5.474251055697728, 'stype2': 'M', 'a': array(12.72651583), 'incl': array(1.5442887), 'ecc': array(0.00300096), 'period': array(4.61876246), 'omega': array(-0.79902864)}\n"
     ]
    },
    {
     "name": "stderr",
     "output_type": "stream",
     "text": [
      "100%|████████████████████████████████████| 25000/25000 [03:17<00:00, 126.87it/s]\n"
     ]
    },
    {
     "name": "stdout",
     "output_type": "stream",
     "text": [
      "23947 23947\n",
      "M1 appears to be in the TAMS state\n",
      "M2 appears to be in the ZAMS state\n"
     ]
    }
   ],
   "source": [
    "get_nearest_eep_from_logg(\"TIC 28159019\")"
   ]
  },
  {
   "cell_type": "code",
   "execution_count": null,
   "id": "d851bafb-5c88-4114-a699-1e85ee518699",
   "metadata": {},
   "outputs": [],
   "source": []
  }
 ],
 "metadata": {
  "kernelspec": {
   "display_name": "Python 3 (ipykernel)",
   "language": "python",
   "name": "python3"
  },
  "language_info": {
   "codemirror_mode": {
    "name": "ipython",
    "version": 3
   },
   "file_extension": ".py",
   "mimetype": "text/x-python",
   "name": "python",
   "nbconvert_exporter": "python",
   "pygments_lexer": "ipython3",
   "version": "3.9.6"
  }
 },
 "nbformat": 4,
 "nbformat_minor": 5
}
