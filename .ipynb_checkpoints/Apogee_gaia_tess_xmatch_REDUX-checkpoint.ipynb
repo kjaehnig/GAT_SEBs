{
 "cells": [
  {
   "cell_type": "code",
   "execution_count": 1,
   "id": "412e2be2-1780-48ed-8fea-0a2f78602249",
   "metadata": {},
   "outputs": [
    {
     "name": "stdout",
     "output_type": "stream",
     "text": [
      "Populating the interactive namespace from numpy and matplotlib\n",
      "4.3.1\n"
     ]
    }
   ],
   "source": [
    "import lightkurve as lk\n",
    "import astropy.table as astab\n",
    "import pandas as pd\n",
    "import astropy\n",
    "from astropy.coordinates import SkyCoord\n",
    "from astropy import units as u\n",
    "import matplotlib.pyplot as plt\n",
    "from tqdm import tqdm\n",
    "%pylab inline\n",
    "pylab.rcParams['figure.figsize'] = (16, 8)\n",
    "import warnings\n",
    "\n",
    "warnings.filterwarnings(\"ignore\",message='ERROR:lightkurve.search')\n",
    "# warnings.filterwarnings('ignore', message=f'No data found for target')\n",
    "print(astropy.__version__)\n",
    "dd = \"/Users/kjaehnig/CCA_work/GAT/\""
   ]
  },
  {
   "cell_type": "markdown",
   "id": "8817c19a-c797-43f6-b26d-53f97cdff689",
   "metadata": {},
   "source": [
    "### load in all big files to use here"
   ]
  },
  {
   "cell_type": "code",
   "execution_count": 70,
   "id": "c684cc67-6540-4df1-8b1b-78f45f37380f",
   "metadata": {},
   "outputs": [
    {
     "name": "stdout",
     "output_type": "stream",
     "text": [
      "all star lite columns\n",
      "657135 733901\n",
      "<TableColumns names=('FILE','APOGEE_ID','TELESCOPE','LOCATION_ID','FIELD','RA','DEC','J','H','K','APOGEE_TARGET1','APOGEE_TARGET2','APOGEE2_TARGET1','APOGEE2_TARGET2','APOGEE2_TARGET3','APOGEE2_TARGET4','NVISITS','SNR','STARFLAG','ANDFLAG','VHELIO_AVG','VSCATTER','VERR','N_COMPONENTS','GAIAEDR3_SOURCE_ID','GAIAEDR3_PARALLAX','GAIAEDR3_PMRA','GAIAEDR3_PMDEC','GAIAEDR3_PHOT_G_MEAN_MAG','GAIAEDR3_PHOT_BP_MEAN_MAG','GAIAEDR3_PHOT_RP_MEAN_MAG','TEFF','TEFF_ERR','LOGG','LOGG_ERR','M_H','M_H_ERR','ALPHA_M','ALPHA_M_ERR','VMICRO','VMACRO','VSINI','C_FE','C_FE_ERR','CI_FE','CI_FE_ERR','N_FE','N_FE_ERR','O_FE','O_FE_ERR','NA_FE','NA_FE_ERR','MG_FE','MG_FE_ERR','AL_FE','AL_FE_ERR','SI_FE','SI_FE_ERR','P_FE','P_FE_ERR','S_FE','S_FE_ERR','K_FE','K_FE_ERR','CA_FE','CA_FE_ERR','TI_FE','TI_FE_ERR','TIII_FE','TIII_FE_ERR','V_FE','V_FE_ERR','CR_FE','CR_FE_ERR','MN_FE','MN_FE_ERR','FE_H','FE_H_ERR','CO_FE','CO_FE_ERR','NI_FE','NI_FE_ERR','CU_FE','CU_FE_ERR','CE_FE','CE_FE_ERR','ND_FE','ND_FE_ERR','APSTAR_ID','ASPCAP_ID','TARGET_ID')>\n",
      "##################################################\n",
      "all visit columns\n",
      "<TableColumns names=('APOGEE_ID','TARGET_ID','VISIT_ID','FILE','FIBERID','CARTID','PLATE','MJD','TELESCOPE','SURVEY','FIELD','PROGRAMNAME','ALT_ID','LOCATION_ID','RA','DEC','GLON','GLAT','RELFLUX','MTPFLUX','J','J_ERR','H','H_ERR','K','K_ERR','SRC_H','WASH_M','WASH_M_ERR','WASH_T2','WASH_T2_ERR','DDO51','DDO51_ERR','IRAC_3_6','IRAC_3_6_ERR','IRAC_4_5','IRAC_4_5_ERR','IRAC_5_8','IRAC_5_8_ERR','IRAC_8_0','IRAC_8_0_ERR','WISE_4_5','WISE_4_5_ERR','TARG_4_5','TARG_4_5_ERR','WASH_DDO51_GIANT_FLAG','WASH_DDO51_STAR_FLAG','PMRA','PMDEC','PM_SRC','AK_TARG','AK_TARG_METHOD','AK_WISE','SFD_EBV','APOGEE_TARGET1','APOGEE_TARGET2','APOGEE_TARGET3','APOGEE_TARGET4','TARGFLAGS','SNR','STARFLAG','STARFLAGS','DATEOBS','JD','VLSR','VGSR','CHISQ','SYNTHFILE','MIN_H','MAX_H','MIN_JK','MAX_JK','VREL','VRELERR','VHELIO','BC','RV_TEFF','RV_LOGG','RV_FEH','RV_CARB','RV_ALPHA','XCORR_VREL','XCORR_VRELERR','XCORR_VHELIO','CCFWHM','AUTOFWHM','RV_CHI2','N_COMPONENTS','RV_COMPONENTS','RV_FLAG')>\n",
      "##################################################\n",
      "645373 645373\n",
      "all star gaia edr3 xmatch columns\n",
      "<TableColumns names=('solution_id','designation','source_id','random_index','ref_epoch','ra','ra_error','dec','dec_error','parallax','parallax_error','parallax_over_error','pm','pmra','pmra_error','pmdec','pmdec_error','ra_dec_corr','ra_parallax_corr','ra_pmra_corr','ra_pmdec_corr','dec_parallax_corr','dec_pmra_corr','dec_pmdec_corr','parallax_pmra_corr','parallax_pmdec_corr','pmra_pmdec_corr','astrometric_n_obs_al','astrometric_n_obs_ac','astrometric_n_good_obs_al','astrometric_n_bad_obs_al','astrometric_gof_al','astrometric_chi2_al','astrometric_excess_noise','astrometric_excess_noise_sig','astrometric_params_solved','astrometric_primary_flag','nu_eff_used_in_astrometry','pseudocolour','pseudocolour_error','ra_pseudocolour_corr','dec_pseudocolour_corr','parallax_pseudocolour_corr','pmra_pseudocolour_corr','pmdec_pseudocolour_corr','astrometric_matched_transits','visibility_periods_used','astrometric_sigma5d_max','matched_transits','new_matched_transits','matched_transits_removed','ipd_gof_harmonic_amplitude','ipd_gof_harmonic_phase','ipd_frac_multi_peak','ipd_frac_odd_win','ruwe','scan_direction_strength_k1','scan_direction_strength_k2','scan_direction_strength_k3','scan_direction_strength_k4','scan_direction_mean_k1','scan_direction_mean_k2','scan_direction_mean_k3','scan_direction_mean_k4','duplicated_source','phot_g_n_obs','phot_g_mean_flux','phot_g_mean_flux_error','phot_g_mean_flux_over_error','phot_g_mean_mag','phot_bp_n_obs','phot_bp_mean_flux','phot_bp_mean_flux_error','phot_bp_mean_flux_over_error','phot_bp_mean_mag','phot_rp_n_obs','phot_rp_mean_flux','phot_rp_mean_flux_error','phot_rp_mean_flux_over_error','phot_rp_mean_mag','phot_bp_n_contaminated_transits','phot_bp_n_blended_transits','phot_rp_n_contaminated_transits','phot_rp_n_blended_transits','phot_proc_mode','phot_bp_rp_excess_factor','bp_rp','bp_g','g_rp','dr2_radial_velocity','dr2_radial_velocity_error','dr2_rv_nb_transits','dr2_rv_template_teff','dr2_rv_template_logg','dr2_rv_template_fe_h','l','b','ecl_lon','ecl_lat','APOGEE_ID')>\n",
      "##################################################\n",
      "all star TESS xmatch columns\n",
      "649865 725290\n",
      "725290 649940\n",
      "<TableColumns names=('ID','APOGEE_ID')>\n",
      "##################################################\n",
      "2666 2666\n",
      "<TableColumns names=('APOGEE_ID','n_visits','MAP_P','MAP_P_err','MAP_e','MAP_e_err','MAP_omega','MAP_omega_err','MAP_M0','MAP_M0_err','MAP_K','MAP_K_err','MAP_v0','MAP_v0_err','MAP_s','MAP_s_err','MAP_t0_bmjd','t_ref_bmjd','baseline','MAP_ln_likelihood','MAP_ln_prior','max_unmarginalized_ln_likelihood','max_phase_gap','periods_spanned','phase_coverage','phase_coverage_per_period','unimodal','joker_completed','mcmc_completed','mcmc_status','gelman_rubin_max','constant_ln_likelihood','robust_constant_ln_likelihood','robust_constant_mean','robust_constant_scatter','robust_constant_success','robust_linear_ln_likelihood','robust_linear_a','robust_linear_b','robust_linear_scatter','robust_linear_success')>\n",
      "##################################################\n"
     ]
    }
   ],
   "source": [
    "allstarlite = astab.Table.read(dd+'dr17_joker/allStarLite-dr17-synspec.fits',format='fits', hdu=1)\n",
    "allvis_verr = astab.Table.read(dd+\"dr17_joker/allVisit-dr17-synspec-calib-verr.fits\", format='fits', hdu=1)\n",
    "allvis = astab.Table.read(dd+\"dr17_joker/allVisit-dr17-synspec.fits\", format='fits', hdu=1)\n",
    "print(\"all star lite columns\")\n",
    "print(len(np.unique(allstarlite['APOGEE_ID'])), len(allstarlite['APOGEE_ID']))\n",
    "print(allstarlite.columns)\n",
    "print(\"#\"*50)\n",
    "print(\"all visit columns\")\n",
    "print(allvis.columns)\n",
    "print(\"#\"*50)\n",
    "\n",
    "apogee_edr3 = astab.Table.read(dd+\"dr17_joker/allStar-dr17-synspec-gaiaedr3-xm.fits\", format='fits', hdu=1)\n",
    "print(len(np.unique(apogee_edr3['APOGEE_ID'])), len(apogee_edr3['APOGEE_ID']))\n",
    "print(\"all star gaia edr3 xmatch columns\")\n",
    "print(apogee_edr3.columns)\n",
    "print(\"#\"*50)\n",
    "\n",
    "\n",
    "apogee_tess = astab.Table.read(dd+\"dr17_joker/allStar-dr17-synspec-tess-xm.fits\", format='fits', hdu=1)\n",
    "print(\"all star TESS xmatch columns\")\n",
    "print(len(np.unique(apogee_tess['APOGEE_ID'])), len(apogee_tess['APOGEE_ID']))\n",
    "print(len(apogee_tess['ID']), len(np.unique(apogee_tess['ID'])))\n",
    "print(apogee_tess.columns)\n",
    "print(\"#\"*50)\n",
    "\n",
    "jk_unimod = astab.Table.read(dd+'dr17_joker/unimodal.fits',format='fits',hdu=1)\n",
    "print(len(np.unique(jk_unimod['APOGEE_ID'])), len(jk_unimod['APOGEE_ID']))\n",
    "print(jk_unimod.columns)# print(jk_unimod.info)\n",
    "print(\"#\"*50)\n",
    "\n",
    "jk_meta = astab.Table.read(dd+\"dr17_joker/apJoker-metadata.fits\", format='fits', hdu=1)\n",
    "# print(jk_meta.columns)\n"
   ]
  },
  {
   "cell_type": "markdown",
   "id": "5d84585b-cf92-4af6-a70e-6890f149a941",
   "metadata": {},
   "source": [
    "#### ASSUME THE eDR3 crossmatches are good and reliable"
   ]
  },
  {
   "cell_type": "code",
   "execution_count": 20,
   "id": "f261be84-6710-4264-9a25-3242662304c8",
   "metadata": {},
   "outputs": [],
   "source": [
    "unimodal_w_edr3 = astab.join(jk_unimod, apogee_edr3, keys=['APOGEE_ID','APOGEE_ID'], join_type='inner')"
   ]
  },
  {
   "cell_type": "code",
   "execution_count": 23,
   "id": "eabe5d81-9120-4a24-bc4a-161fe0749699",
   "metadata": {},
   "outputs": [
    {
     "name": "stdout",
     "output_type": "stream",
     "text": [
      "2642 2642\n",
      "<TableColumns names=('APOGEE_ID','n_visits','MAP_P','MAP_P_err','MAP_e','MAP_e_err','MAP_omega','MAP_omega_err','MAP_M0','MAP_M0_err','MAP_K','MAP_K_err','MAP_v0','MAP_v0_err','MAP_s','MAP_s_err','MAP_t0_bmjd','t_ref_bmjd','baseline','MAP_ln_likelihood','MAP_ln_prior','max_unmarginalized_ln_likelihood','max_phase_gap','periods_spanned','phase_coverage','phase_coverage_per_period','unimodal','joker_completed','mcmc_completed','mcmc_status','gelman_rubin_max','constant_ln_likelihood','robust_constant_ln_likelihood','robust_constant_mean','robust_constant_scatter','robust_constant_success','robust_linear_ln_likelihood','robust_linear_a','robust_linear_b','robust_linear_scatter','robust_linear_success','solution_id','designation','source_id','random_index','ref_epoch','ra','ra_error','dec','dec_error','parallax','parallax_error','parallax_over_error','pm','pmra','pmra_error','pmdec','pmdec_error','ra_dec_corr','ra_parallax_corr','ra_pmra_corr','ra_pmdec_corr','dec_parallax_corr','dec_pmra_corr','dec_pmdec_corr','parallax_pmra_corr','parallax_pmdec_corr','pmra_pmdec_corr','astrometric_n_obs_al','astrometric_n_obs_ac','astrometric_n_good_obs_al','astrometric_n_bad_obs_al','astrometric_gof_al','astrometric_chi2_al','astrometric_excess_noise','astrometric_excess_noise_sig','astrometric_params_solved','astrometric_primary_flag','nu_eff_used_in_astrometry','pseudocolour','pseudocolour_error','ra_pseudocolour_corr','dec_pseudocolour_corr','parallax_pseudocolour_corr','pmra_pseudocolour_corr','pmdec_pseudocolour_corr','astrometric_matched_transits','visibility_periods_used','astrometric_sigma5d_max','matched_transits','new_matched_transits','matched_transits_removed','ipd_gof_harmonic_amplitude','ipd_gof_harmonic_phase','ipd_frac_multi_peak','ipd_frac_odd_win','ruwe','scan_direction_strength_k1','scan_direction_strength_k2','scan_direction_strength_k3','scan_direction_strength_k4','scan_direction_mean_k1','scan_direction_mean_k2','scan_direction_mean_k3','scan_direction_mean_k4','duplicated_source','phot_g_n_obs','phot_g_mean_flux','phot_g_mean_flux_error','phot_g_mean_flux_over_error','phot_g_mean_mag','phot_bp_n_obs','phot_bp_mean_flux','phot_bp_mean_flux_error','phot_bp_mean_flux_over_error','phot_bp_mean_mag','phot_rp_n_obs','phot_rp_mean_flux','phot_rp_mean_flux_error','phot_rp_mean_flux_over_error','phot_rp_mean_mag','phot_bp_n_contaminated_transits','phot_bp_n_blended_transits','phot_rp_n_contaminated_transits','phot_rp_n_blended_transits','phot_proc_mode','phot_bp_rp_excess_factor','bp_rp','bp_g','g_rp','dr2_radial_velocity','dr2_radial_velocity_error','dr2_rv_nb_transits','dr2_rv_template_teff','dr2_rv_template_logg','dr2_rv_template_fe_h','l','b','ecl_lon','ecl_lat')>\n"
     ]
    }
   ],
   "source": [
    "print(len(unimodal_w_edr3['APOGEE_ID']),len(np.unique(unimodal_w_edr3['APOGEE_ID'])))\n",
    "print(unimodal_w_edr3.columns)"
   ]
  },
  {
   "cell_type": "code",
   "execution_count": 8,
   "id": "013f9638-c050-4a39-98bd-4ae3acc3e601",
   "metadata": {},
   "outputs": [
    {
     "data": {
      "text/plain": [
       "505142"
      ]
     },
     "execution_count": 8,
     "metadata": {},
     "output_type": "execute_result"
    }
   ],
   "source": [
    "np.where(apogee_tess['ID'] == 20215452)[0][0]"
   ]
  },
  {
   "cell_type": "markdown",
   "id": "966b03e3-ed09-429d-a6b3-2dad7f2ad8a4",
   "metadata": {},
   "source": [
    "#### first cross-match the allstarlite catalog entries with the APOGEE/eDR3 ids in the unimodal sample"
   ]
  },
  {
   "cell_type": "code",
   "execution_count": 71,
   "id": "4de91300-3739-472c-b911-ce19e72fac34",
   "metadata": {},
   "outputs": [
    {
     "name": "stderr",
     "output_type": "stream",
     "text": [
      "100%|███████████████████████████████████████| 2642/2642 [01:10<00:00, 37.28it/s]\n"
     ]
    }
   ],
   "source": [
    "m = np.zeros(len(allstarlite), dtype='bool')\n",
    "for ii,apoid in enumerate(tqdm(unimodal_w_edr3['APOGEE_ID'])):\n",
    "    asdr17_matches = np.where(allstarlite['APOGEE_ID'] == apoid)[0]\n",
    "    if len(asdr17_matches) > 1:\n",
    "        match_dat = allstarlite[asdr17_matches]\n",
    "\n",
    "        best_nvis = np.argmax(match_dat['NVISITS'])\n",
    "        \n",
    "        m[asdr17_matches[best_nvis]] = 1\n",
    "    else:\n",
    "        m[asdr17_matches] = 1"
   ]
  },
  {
   "cell_type": "code",
   "execution_count": 72,
   "id": "8e6c91a9-31a6-44e2-8a5e-d0f490a2f394",
   "metadata": {},
   "outputs": [],
   "source": [
    "allstarlite_truncated = allstarlite[m]"
   ]
  },
  {
   "cell_type": "code",
   "execution_count": 73,
   "id": "27a8883d-03bf-4b60-93a1-d2d163227e2e",
   "metadata": {},
   "outputs": [
    {
     "name": "stdout",
     "output_type": "stream",
     "text": [
      "2642 2642\n"
     ]
    }
   ],
   "source": [
    "print(len(allstarlite_truncated['APOGEE_ID']), len(np.unique(allstarlite_truncated['APOGEE_ID'])))"
   ]
  },
  {
   "cell_type": "code",
   "execution_count": 74,
   "id": "abddb69a-92dc-4292-b7b6-1938d91fbab2",
   "metadata": {},
   "outputs": [],
   "source": [
    "unimodal_pEDR3_pDR17 = astab.join(unimodal_w_edr3, allstarlite_truncated, keys=['APOGEE_ID', 'APOGEE_ID'])"
   ]
  },
  {
   "cell_type": "code",
   "execution_count": 75,
   "id": "32b051a1-76f7-4f8e-bc47-ebd30b613e12",
   "metadata": {},
   "outputs": [
    {
     "name": "stdout",
     "output_type": "stream",
     "text": [
      "2642 2642\n"
     ]
    }
   ],
   "source": [
    "print(len(unimodal_pEDR3_pDR17['APOGEE_ID']), len(np.unique(unimodal_pEDR3_pDR17['APOGEE_ID'])))"
   ]
  },
  {
   "cell_type": "markdown",
   "id": "c354050b-0e35-4b45-9f31-cae8b71e721c",
   "metadata": {},
   "source": [
    "### cross match this new table with the entries in the APOGEE-TESS xmatches"
   ]
  },
  {
   "cell_type": "code",
   "execution_count": 76,
   "id": "1f5ff025-f4f2-4c72-9fc5-ef2b15fad5bb",
   "metadata": {
    "tags": []
   },
   "outputs": [
    {
     "name": "stderr",
     "output_type": "stream",
     "text": [
      "100%|██████████████████████████████████████| 2642/2642 [00:17<00:00, 152.10it/s]\n"
     ]
    }
   ],
   "source": [
    "m = np.zeros(len(apogee_tess['ID']), dtype='bool')\n",
    "for ii, apoid in enumerate(tqdm(unimodal_pEDR3_pDR17['APOGEE_ID'])):\n",
    "    tess_matches = np.where(apogee_tess['APOGEE_ID'] == apoid)[0]\n",
    "\n",
    "    if len(tess_matches) > 1:\n",
    "        unimod_row = unimodal_pEDR3_pDR17[ii]\n",
    "        unimod_coord = SkyCoord(ra=unimod_row['ra'],\n",
    "                         dec=unimod_row['dec'],\n",
    "                         unit=u.deg,\n",
    "                         frame='icrs')\n",
    "        TESSdists = np.zeros(len(tess_matches))\n",
    "        for jj in range(len(TESSm)):\n",
    "\n",
    "            try:\n",
    "                lk_search = lk.search_lightcurve('TIC '+str(apogee_tess[tess_matches[jj]]['ID']))\n",
    "\n",
    "                lk_search_pos = SkyCoord(ra=lk_search.ra[0],\n",
    "                                         dec=lk_search.dec[0],\n",
    "                                         unit=u.deg,\n",
    "                                         frame='icrs')\n",
    "                TESSdists[jj] = unimod_coord.separation(lk_search_pos).to(u.deg).value[0]\n",
    "                best_pos_match = np.argmin(TESSdists)\n",
    "                m[tess_matches[best_pos_match]] = 1\n",
    "            except:\n",
    "                pass\n",
    "    else:\n",
    "        m[tess_matches] = 1"
   ]
  },
  {
   "cell_type": "code",
   "execution_count": 77,
   "id": "71d0a9a6-fa58-4d7a-9034-ac1d1c653ef3",
   "metadata": {},
   "outputs": [
    {
     "name": "stdout",
     "output_type": "stream",
     "text": [
      "1741\n"
     ]
    }
   ],
   "source": [
    "print(m.sum())"
   ]
  },
  {
   "cell_type": "code",
   "execution_count": 78,
   "id": "ed353c32-724a-4ad1-b93a-698c236e342d",
   "metadata": {},
   "outputs": [
    {
     "name": "stdout",
     "output_type": "stream",
     "text": [
      "1741 1741\n"
     ]
    }
   ],
   "source": [
    "apogee_tess_truncated = apogee_tess[m]\n",
    "print(len(apogee_tess_truncated['ID']), len(np.unique(apogee_tess_truncated['ID'])))"
   ]
  },
  {
   "cell_type": "code",
   "execution_count": 79,
   "id": "2d0b2224-43fa-44bd-87c9-518bb0481729",
   "metadata": {},
   "outputs": [],
   "source": [
    "unimod_pEDR3_pDR17_pTESS = astab.join(unimodal_pEDR3_pDR17,apogee_tess_truncated, keys=['APOGEE_ID','APOGEE_ID'])"
   ]
  },
  {
   "cell_type": "code",
   "execution_count": 80,
   "id": "a8816643-fe2d-428d-8d68-20b7597130a9",
   "metadata": {},
   "outputs": [
    {
     "name": "stdout",
     "output_type": "stream",
     "text": [
      "1741 1741\n"
     ]
    }
   ],
   "source": [
    "print(len(unimod_pEDR3_pDR17_pTESS['ID']),len(np.unique(unimod_pEDR3_pDR17_pTESS['ID'])))"
   ]
  },
  {
   "cell_type": "code",
   "execution_count": 84,
   "id": "9ec7cdb0-cd10-4b2f-ae30-a2da24540b26",
   "metadata": {
    "collapsed": true,
    "jupyter": {
     "outputs_hidden": true
    },
    "tags": []
   },
   "outputs": [
    {
     "name": "stdout",
     "output_type": "stream",
     "text": [
      "9 9\n",
      "<Table length=1741>\n",
      "              name                dtype       unit                                          description                                          class     n_bad\n",
      "-------------------------------- ------- ------------- -------------------------------------------------------------------------------------- ------------ -----\n",
      "                       APOGEE_ID bytes30                                                                                                            Column     0\n",
      "                        n_visits   int64                                                                                                      MaskedColumn     0\n",
      "                           MAP_P float64             d                                                                                              Column     0\n",
      "                       MAP_P_err float64             d                                                                                              Column     0\n",
      "                           MAP_e float64                                                                                                            Column     0\n",
      "                       MAP_e_err float64                                                                                                            Column     0\n",
      "                       MAP_omega float64           rad                                                                                              Column     0\n",
      "                   MAP_omega_err float64           rad                                                                                              Column     0\n",
      "                          MAP_M0 float64           rad                                                                                              Column     0\n",
      "                      MAP_M0_err float64           rad                                                                                              Column     0\n",
      "                           MAP_K float64        km / s                                                                                              Column     0\n",
      "                       MAP_K_err float64        km / s                                                                                              Column     0\n",
      "                          MAP_v0 float64        km / s                                                                                              Column     0\n",
      "                      MAP_v0_err float64        km / s                                                                                              Column     0\n",
      "                           MAP_s float64        km / s                                                                                              Column     0\n",
      "                       MAP_s_err float64        km / s                                                                                              Column     0\n",
      "                     MAP_t0_bmjd float64                                                                                                            Column     0\n",
      "                      t_ref_bmjd float64                                                                                                            Column     0\n",
      "                        baseline float64             d                                                                                              Column     0\n",
      "               MAP_ln_likelihood float64                                                                                                            Column     0\n",
      "                    MAP_ln_prior float64                                                                                                            Column     3\n",
      "max_unmarginalized_ln_likelihood float64                                                                                                            Column     0\n",
      "                   max_phase_gap float64                                                                                                            Column     0\n",
      "                 periods_spanned float64                                                                                                            Column     0\n",
      "                  phase_coverage float64                                                                                                            Column     0\n",
      "       phase_coverage_per_period   int64                                                                                                      MaskedColumn     0\n",
      "                        unimodal    bool                                                                                                            Column     0\n",
      "                 joker_completed    bool                                                                                                            Column     0\n",
      "                  mcmc_completed    bool                                                                                                            Column     0\n",
      "                     mcmc_status   int64                                                                                                      MaskedColumn     0\n",
      "                gelman_rubin_max float64                                                                                                            Column     0\n",
      "          constant_ln_likelihood float64                                                                                                            Column     0\n",
      "   robust_constant_ln_likelihood float64                                                                                                            Column     0\n",
      "            robust_constant_mean float64                                                                                                            Column     0\n",
      "         robust_constant_scatter float64                                                                                                            Column     0\n",
      "         robust_constant_success    bool                                                                                                            Column     0\n",
      "     robust_linear_ln_likelihood float64                                                                                                            Column     0\n",
      "                 robust_linear_a float64                                                                                                            Column     0\n",
      "                 robust_linear_b float64                                                                                                            Column     0\n",
      "           robust_linear_scatter float64                                                                                                            Column     0\n",
      "           robust_linear_success    bool                                                                                                            Column     0\n",
      "                     solution_id   int64                                                                                  Solution Identifier       Column     0\n",
      "                     designation bytes29                                          Unique source designation (unique across all Data Releases)       Column     0\n",
      "                       source_id   int64                                   Unique source identifier (unique within a particular Data Release)       Column     0\n",
      "                    random_index   int64                                                                  Random index used to select subsets       Column     0\n",
      "                       ref_epoch float64            yr                                                                        Reference epoch       Column     0\n",
      "                              ra float64           deg                                                                        Right ascension       Column     0\n",
      "                        ra_error float32           mas                                                      Standard error of right ascension       Column     0\n",
      "                             dec float64           deg                                                                            Declination       Column     0\n",
      "                       dec_error float32           mas                                                          Standard error of declination       Column     0\n",
      "                        parallax float64           mas                                                                               Parallax       Column     0\n",
      "                  parallax_error float32           mas                                                             Standard error of parallax       Column     0\n",
      "             parallax_over_error float32                                                               Parallax divided by its standard error       Column     0\n",
      "                              pm float32      mas / yr                                                                    Total proper motion       Column     0\n",
      "                            pmra float64      mas / yr                                             Proper motion in right ascension direction       Column     0\n",
      "                      pmra_error float32      mas / yr                           Standard error of proper motion in right ascension direction       Column     0\n",
      "                           pmdec float64      mas / yr                                                 Proper motion in declination direction       Column     0\n",
      "                     pmdec_error float32      mas / yr                               Standard error of proper motion in declination direction       Column     0\n",
      "                     ra_dec_corr float32                                                  Correlation between right ascension and declination       Column     0\n",
      "                ra_parallax_corr float32                                                     Correlation between right ascension and parallax       Column     0\n",
      "                    ra_pmra_corr float32                             Correlation between right ascension and proper motion in right ascension       Column     0\n",
      "                   ra_pmdec_corr float32                                 Correlation between right ascension and proper motion in declination       Column     0\n",
      "               dec_parallax_corr float32                                                         Correlation between declination and parallax       Column     0\n",
      "                   dec_pmra_corr float32                                 Correlation between declination and proper motion in right ascension       Column     0\n",
      "                  dec_pmdec_corr float32                                     Correlation between declination and proper motion in declination       Column     0\n",
      "              parallax_pmra_corr float32                                    Correlation between parallax and proper motion in right ascension       Column     0\n",
      "             parallax_pmdec_corr float32                                        Correlation between parallax and proper motion in declination       Column     0\n",
      "                 pmra_pmdec_corr float32                Correlation between proper motion in right ascension and proper motion in declination       Column     0\n",
      "            astrometric_n_obs_al   int16                                                                      Total number of observations AL       Column     0\n",
      "            astrometric_n_obs_ac   int16                                                                      Total number of observations AC       Column     0\n",
      "       astrometric_n_good_obs_al   int16                                                                       Number of good observations AL       Column     0\n",
      "        astrometric_n_bad_obs_al   int16                                                                        Number of bad observations AL       Column     0\n",
      "              astrometric_gof_al float32                                       Goodness of fit statistic of model wrt along-scan observations       Column     0\n",
      "             astrometric_chi2_al float32                                                                                  AL chi-square value       Column     0\n",
      "        astrometric_excess_noise float32           mas                                                             Excess noise of the source       Column     0\n",
      "    astrometric_excess_noise_sig float32                                                                         Significance of excess noise       Column     0\n",
      "       astrometric_params_solved   int16                                                               Which parameters have been solved for?       Column     0\n",
      "        astrometric_primary_flag    bool                                                                                  Primary or seconday       Column     0\n",
      "       nu_eff_used_in_astrometry float32        1 / um                    Effective wavenumber of the source used in the astrometric solution       Column     0\n",
      "                    pseudocolour float32        1 / um                                   Astrometrically estimated pseudocolour of the source       Column     0\n",
      "              pseudocolour_error float32        1 / um                                       Standard error of the pseudocolour of the source       Column     0\n",
      "            ra_pseudocolour_corr float32                                                 Correlation between right ascension and pseudocolour       Column     0\n",
      "           dec_pseudocolour_corr float32                                                     Correlation between declination and pseudocolour       Column     0\n",
      "      parallax_pseudocolour_corr float32                                                        Correlation between parallax and pseudocolour       Column     0\n",
      "          pmra_pseudocolour_corr float32                                 Correlation between proper motion in right asension and pseudocolour       Column     0\n",
      "         pmdec_pseudocolour_corr float32                                    Correlation between proper motion in declination and pseudocolour       Column     0\n",
      "    astrometric_matched_transits   int16                                                       Matched FOV transits used in the AGIS solution       Column     0\n",
      "         visibility_periods_used   int16                                            Number of visibility periods used in Astrometric solution       Column     0\n",
      "         astrometric_sigma5d_max float32           mas                                 The longest semi-major axis of the 5-d error ellipsoid       Column     0\n",
      "                matched_transits   int16                                                        The number of transits matched to this source       Column     0\n",
      "            new_matched_transits   int16               The number of transits newly incorporated into an existing source in the current cycle       Column     0\n",
      "        matched_transits_removed   int16                          The number of transits removed from an existing source in the current cycle       Column     0\n",
      "      ipd_gof_harmonic_amplitude float32                                               Amplitude of the IPD GoF versus position angle of scan       Column     0\n",
      "          ipd_gof_harmonic_phase float32           deg                                     Phase of the IPD GoF versus position angle of scan       Column     0\n",
      "             ipd_frac_multi_peak   int16                                            Percent of successful-IPD windows with more than one peak       Column     0\n",
      "                ipd_frac_odd_win   int16                                          Percent of transits with truncated windows or multiple gate       Column     0\n",
      "                            ruwe float32                                                                       Renormalised unit weight error       Column     0\n",
      "      scan_direction_strength_k1 float32                                         Degree of concentration of scan directions across the source       Column     0\n",
      "      scan_direction_strength_k2 float32                                         Degree of concentration of scan directions across the source       Column     0\n",
      "      scan_direction_strength_k3 float32                                         Degree of concentration of scan directions across the source       Column     0\n",
      "      scan_direction_strength_k4 float32                                         Degree of concentration of scan directions across the source       Column     0\n",
      "          scan_direction_mean_k1 float32           deg                               Mean position angle of scan directions across the source       Column     0\n",
      "          scan_direction_mean_k2 float32           deg                               Mean position angle of scan directions across the source       Column     0\n",
      "          scan_direction_mean_k3 float32           deg                               Mean position angle of scan directions across the source       Column     0\n",
      "          scan_direction_mean_k4 float32           deg                               Mean position angle of scan directions across the source       Column     0\n",
      "               duplicated_source    bool                                                              Source with multiple source identifiers       Column     0\n",
      "                    phot_g_n_obs   int16                                                  Number of observations contributing to G photometry       Column     0\n",
      "                phot_g_mean_flux float64                                                                                     G-band mean flux       Column     0\n",
      "          phot_g_mean_flux_error float32                                                                            Error on G-band mean flux       Column     0\n",
      "     phot_g_mean_flux_over_error float32                                                                G-band mean flux divided by its error       Column     0\n",
      "                 phot_g_mean_mag float32           mag                                                                  G-band mean magnitude       Column     0\n",
      "                   phot_bp_n_obs   int16                                                 Number of observations contributing to BP photometry       Column     0\n",
      "               phot_bp_mean_flux float64                                                                              Integrated BP mean flux       Column     0\n",
      "         phot_bp_mean_flux_error float32                                                                 Error on the integrated BP mean flux       Column     0\n",
      "    phot_bp_mean_flux_over_error float32                                                         Integrated BP mean flux divided by its error       Column     0\n",
      "                phot_bp_mean_mag float32           mag                                                           Integrated BP mean magnitude       Column     0\n",
      "                   phot_rp_n_obs   int16                                                 Number of observations contributing to RP photometry       Column     0\n",
      "               phot_rp_mean_flux float64                                                                              Integrated RP mean flux       Column     0\n",
      "         phot_rp_mean_flux_error float32                                                                 Error on the integrated RP mean flux       Column     0\n",
      "    phot_rp_mean_flux_over_error float32                                                         Integrated RP mean flux divided by its error       Column     0\n",
      "                phot_rp_mean_mag float32           mag                                                           Integrated RP mean magnitude       Column     0\n",
      " phot_bp_n_contaminated_transits   int16                                                                   Number of BP contaminated transits       Column     0\n",
      "      phot_bp_n_blended_transits   int16                                                                        Number of BP blended transits       Column     0\n",
      " phot_rp_n_contaminated_transits   int16                                                                   Number of RP contaminated transits       Column     0\n",
      "      phot_rp_n_blended_transits   int16                                                                        Number of RP blended transits       Column     0\n",
      "                  phot_proc_mode   int16                                                                           Photometry processing mode       Column     0\n",
      "        phot_bp_rp_excess_factor float32                                                                                  BP/RP excess factor       Column     0\n",
      "                           bp_rp float32           mag                                                                         BP - RP colour       Column     0\n",
      "                            bp_g float32           mag                                                                          BP - G colour       Column     0\n",
      "                            g_rp float32           mag                                                                          G - RP colour       Column     0\n",
      "             dr2_radial_velocity float32        km / s                                                          Radial velocity from Gaia DR2       Column     0\n",
      "       dr2_radial_velocity_error float32        km / s                                                    Radial velocity error from Gaia DR2       Column     0\n",
      "              dr2_rv_nb_transits   int16                                       Number of transits used to compute radial velocity in Gaia DR2       Column     0\n",
      "            dr2_rv_template_teff float32             K                       Teff of the template used to compute radial velocity in Gaia DR2       Column     0\n",
      "            dr2_rv_template_logg float32 log(cm.s**-2)                       logg of the template used to compute radial velocity in Gaia DR2       Column     0\n",
      "            dr2_rv_template_fe_h float32                                     Fe/H of the template used to compute radial velocity in Gaia DR2       Column     0\n",
      "                               l float64           deg                                                                     Galactic longitude       Column     0\n",
      "                               b float64           deg                                                                      Galactic latitude       Column     0\n",
      "                         ecl_lon float64           deg                                                                     Ecliptic longitude       Column     0\n",
      "                         ecl_lat float64           deg                                                                      Ecliptic latitude       Column     0\n",
      "                            FILE bytes64                                                                                                      MaskedColumn     0\n",
      "                       TELESCOPE  bytes6                                                                                                            Column     0\n",
      "                     LOCATION_ID   int32                                                                                                            Column     0\n",
      "                           FIELD bytes20                                                                                                            Column     0\n",
      "                              RA float64                                                                                                      MaskedColumn     0\n",
      "                             DEC float64                                                                                                      MaskedColumn     0\n",
      "                               J float32                                                                                                      MaskedColumn     1\n",
      "                               H float32                                                                                                      MaskedColumn     0\n",
      "                               K float32                                                                                                      MaskedColumn     1\n",
      "                  APOGEE_TARGET1   int32                                                                                                            Column     0\n",
      "                  APOGEE_TARGET2   int32                                                                                                            Column     0\n",
      "                 APOGEE2_TARGET1   int32                                                                                                            Column     0\n",
      "                 APOGEE2_TARGET2   int32                                                                                                            Column     0\n",
      "                 APOGEE2_TARGET3   int32                                                                                                            Column     0\n",
      "                 APOGEE2_TARGET4   int32                                                                                                            Column     0\n",
      "                         NVISITS   int32                                                                                                            Column     0\n",
      "                             SNR float32                                                                                                            Column     0\n",
      "                        STARFLAG   int64                                                                                                            Column     0\n",
      "                         ANDFLAG   int64                                                                                                            Column     0\n",
      "                      VHELIO_AVG float32                                                                                                      MaskedColumn     0\n",
      "                        VSCATTER float32                                                                                                            Column     0\n",
      "                            VERR float32                                                                                                            Column     0\n",
      "                    N_COMPONENTS   int32                                                                                                            Column     0\n",
      "              GAIAEDR3_SOURCE_ID   int64                                                                                                            Column     0\n",
      "               GAIAEDR3_PARALLAX float32                                                                                                      MaskedColumn     0\n",
      "                   GAIAEDR3_PMRA float32                                                                                                      MaskedColumn     0\n",
      "                  GAIAEDR3_PMDEC float32                                                                                                      MaskedColumn     0\n",
      "        GAIAEDR3_PHOT_G_MEAN_MAG float32                                                                                                      MaskedColumn     0\n",
      "       GAIAEDR3_PHOT_BP_MEAN_MAG float32                                                                                                      MaskedColumn     0\n",
      "       GAIAEDR3_PHOT_RP_MEAN_MAG float32                                                                                                      MaskedColumn     0\n",
      "                            TEFF float32                                                                                                      MaskedColumn     0\n",
      "                        TEFF_ERR float32                                                                                                      MaskedColumn     0\n",
      "                            LOGG float32                                                                                                      MaskedColumn     0\n",
      "                        LOGG_ERR float32                                                                                                      MaskedColumn     0\n",
      "                             M_H float32                                                                                                      MaskedColumn     0\n",
      "                         M_H_ERR float32                                                                                                      MaskedColumn     0\n",
      "                         ALPHA_M float32                                                                                                      MaskedColumn     2\n",
      "                     ALPHA_M_ERR float32                                                                                                      MaskedColumn     2\n",
      "                          VMICRO float32                                                                                                      MaskedColumn     0\n",
      "                          VMACRO float32                                                                                                      MaskedColumn     0\n",
      "                           VSINI float32                                                                                                      MaskedColumn   381\n",
      "                            C_FE float32                                                                                                      MaskedColumn    11\n",
      "                        C_FE_ERR float32                                                                                                      MaskedColumn    11\n",
      "                           CI_FE float32                                                                                                      MaskedColumn    31\n",
      "                       CI_FE_ERR float32                                                                                                      MaskedColumn    31\n",
      "                            N_FE float32                                                                                                      MaskedColumn   418\n",
      "                        N_FE_ERR float32                                                                                                      MaskedColumn   418\n",
      "                            O_FE float32                                                                                                      MaskedColumn     7\n",
      "                        O_FE_ERR float32                                                                                                      MaskedColumn     7\n",
      "                           NA_FE float32                                                                                                      MaskedColumn   409\n",
      "                       NA_FE_ERR float32                                                                                                      MaskedColumn   409\n",
      "                           MG_FE float32                                                                                                      MaskedColumn     6\n",
      "                       MG_FE_ERR float32                                                                                                      MaskedColumn     6\n",
      "                           AL_FE float32                                                                                                      MaskedColumn   375\n",
      "                       AL_FE_ERR float32                                                                                                      MaskedColumn   375\n",
      "                           SI_FE float32                                                                                                      MaskedColumn     2\n",
      "                       SI_FE_ERR float32                                                                                                      MaskedColumn     2\n",
      "                            P_FE float32                                                                                                      MaskedColumn  1741\n",
      "                        P_FE_ERR float32                                                                                                      MaskedColumn    32\n",
      "                            S_FE float32                                                                                                      MaskedColumn   465\n",
      "                        S_FE_ERR float32                                                                                                      MaskedColumn   465\n",
      "                            K_FE float32                                                                                                      MaskedColumn    47\n",
      "                        K_FE_ERR float32                                                                                                      MaskedColumn    47\n",
      "                           CA_FE float32                                                                                                      MaskedColumn    89\n",
      "                       CA_FE_ERR float32                                                                                                      MaskedColumn    89\n",
      "                           TI_FE float32                                                                                                      MaskedColumn   168\n",
      "                       TI_FE_ERR float32                                                                                                      MaskedColumn   168\n",
      "                         TIII_FE float32                                                                                                      MaskedColumn  1245\n",
      "                     TIII_FE_ERR float32                                                                                                      MaskedColumn  1245\n",
      "                            V_FE float32                                                                                                      MaskedColumn   605\n",
      "                        V_FE_ERR float32                                                                                                      MaskedColumn   605\n",
      "                           CR_FE float32                                                                                                      MaskedColumn   385\n",
      "                       CR_FE_ERR float32                                                                                                      MaskedColumn   385\n",
      "                           MN_FE float32                                                                                                      MaskedColumn   231\n",
      "                       MN_FE_ERR float32                                                                                                      MaskedColumn   231\n",
      "                            FE_H float32                                                                                                      MaskedColumn     0\n",
      "                        FE_H_ERR float32                                                                                                      MaskedColumn     0\n",
      "                           CO_FE float32                                                                                                      MaskedColumn  1194\n",
      "                       CO_FE_ERR float32                                                                                                      MaskedColumn  1194\n",
      "                           NI_FE float32                                                                                                      MaskedColumn     9\n",
      "                       NI_FE_ERR float32                                                                                                      MaskedColumn     9\n",
      "                           CU_FE float32                                                                                                      MaskedColumn  1741\n",
      "                       CU_FE_ERR float32                                                                                                      MaskedColumn   182\n",
      "                           CE_FE float32                                                                                                      MaskedColumn  1227\n",
      "                       CE_FE_ERR float32                                                                                                      MaskedColumn  1227\n",
      "                           ND_FE float32                                                                                                      MaskedColumn  1741\n",
      "                       ND_FE_ERR float32                                                                                                      MaskedColumn  1741\n",
      "                       APSTAR_ID bytes71                                                                                                            Column     0\n",
      "                       ASPCAP_ID bytes69                                                                                                            Column     0\n",
      "                       TARGET_ID bytes58                                                                                                            Column     0\n",
      "                              ID   int64                                                                                                            Column     0\n",
      "\n"
     ]
    },
    {
     "data": {
      "text/plain": [
       "\u001b[0;31mSignature:\u001b[0m   \u001b[0mapogee_tess\u001b[0m\u001b[0;34m.\u001b[0m\u001b[0mwrite\u001b[0m\u001b[0;34m(\u001b[0m\u001b[0;34m*\u001b[0m\u001b[0margs\u001b[0m\u001b[0;34m,\u001b[0m \u001b[0mserialize_method\u001b[0m\u001b[0;34m=\u001b[0m\u001b[0;32mNone\u001b[0m\u001b[0;34m,\u001b[0m \u001b[0;34m**\u001b[0m\u001b[0mkwargs\u001b[0m\u001b[0;34m)\u001b[0m\u001b[0;34m\u001b[0m\u001b[0;34m\u001b[0m\u001b[0m\n",
       "\u001b[0;31mType:\u001b[0m        TableWrite\n",
       "\u001b[0;31mString form:\u001b[0m <astropy.table.connect.TableWrite object at 0x149514910>\n",
       "\u001b[0;31mFile:\u001b[0m        ~/CCA_work/GAT/gatenv/lib/python3.9/site-packages/astropy/table/connect.py\n",
       "\u001b[0;31mDocstring:\u001b[0m  \n",
       "Write this Table object out in the specified format.\n",
       "\n",
       "This function provides the Table interface to the astropy unified I/O\n",
       "layer.  This allows easily writing a file in many supported data formats\n",
       "using syntax such as::\n",
       "\n",
       "  >>> from astropy.table import Table\n",
       "  >>> dat = Table([[1, 2], [3, 4]], names=('a', 'b'))\n",
       "  >>> dat.write('table.dat', format='ascii')\n",
       "\n",
       "Get help on the available writers for ``Table`` using the``help()`` method::\n",
       "\n",
       "  >>> Table.write.help()  # Get help writing Table and list supported formats\n",
       "  >>> Table.write.help('fits')  # Get detailed help on Table FITS writer\n",
       "  >>> Table.write.list_formats()  # Print list of available formats\n",
       "\n",
       "The ``serialize_method`` argument is explained in the section on\n",
       "`Table serialization methods\n",
       "<https://docs.astropy.org/en/latest/io/unified.html#table-serialization-methods>`_.\n",
       "\n",
       "See also: https://docs.astropy.org/en/stable/io/unified.html\n",
       "\n",
       "Parameters\n",
       "----------\n",
       "*args : tuple, optional\n",
       "    Positional arguments passed through to data writer. If supplied the\n",
       "    first argument is the output filename.\n",
       "format : str\n",
       "    File format specifier.\n",
       "serialize_method : str, dict, optional\n",
       "    Serialization method specifier for columns.\n",
       "**kwargs : dict, optional\n",
       "    Keyword arguments passed through to data writer.\n",
       "\n",
       "Notes\n",
       "-----\n",
       "\n",
       "The available built-in formats are:\n",
       "\n",
       "=========================== ==== ===== ============= ==========\n",
       "           Format           Read Write Auto-identify Deprecated\n",
       "=========================== ==== ===== ============= ==========\n",
       "                      ascii  Yes   Yes            No           \n",
       "               ascii.aastex  Yes   Yes            No           \n",
       "                ascii.basic  Yes   Yes            No           \n",
       "     ascii.commented_header  Yes   Yes            No           \n",
       "                  ascii.csv  Yes   Yes           Yes           \n",
       "                 ascii.ecsv  Yes   Yes           Yes           \n",
       "           ascii.fast_basic  Yes   Yes            No           \n",
       "ascii.fast_commented_header  Yes   Yes            No           \n",
       "             ascii.fast_csv  Yes   Yes            No           \n",
       "       ascii.fast_no_header  Yes   Yes            No           \n",
       "             ascii.fast_rdb  Yes   Yes            No           \n",
       "             ascii.fast_tab  Yes   Yes            No           \n",
       "          ascii.fixed_width  Yes   Yes            No           \n",
       "ascii.fixed_width_no_header  Yes   Yes            No           \n",
       " ascii.fixed_width_two_line  Yes   Yes            No           \n",
       "                 ascii.html  Yes   Yes           Yes           \n",
       "                 ascii.ipac  Yes   Yes            No           \n",
       "                ascii.latex  Yes   Yes           Yes           \n",
       "            ascii.no_header  Yes   Yes            No           \n",
       "                  ascii.qdp  Yes   Yes           Yes           \n",
       "                  ascii.rdb  Yes   Yes           Yes           \n",
       "                  ascii.rst  Yes   Yes            No           \n",
       "                  ascii.tab  Yes   Yes            No           \n",
       "                       asdf  Yes   Yes           Yes           \n",
       "                       fits  Yes   Yes           Yes           \n",
       "                       hdf5  Yes   Yes           Yes           \n",
       "                   jsviewer   No   Yes            No           \n",
       "                 pandas.csv  Yes   Yes            No           \n",
       "                pandas.html  Yes   Yes            No           \n",
       "                pandas.json  Yes   Yes            No           \n",
       "                    votable  Yes   Yes           Yes           \n",
       "                     aastex  Yes   Yes            No        Yes\n",
       "                        csv  Yes   Yes            No        Yes\n",
       "                       html  Yes   Yes            No        Yes\n",
       "                       ipac  Yes   Yes            No        Yes\n",
       "                      latex  Yes   Yes            No        Yes\n",
       "                        rdb  Yes   Yes            No        Yes\n",
       "=========================== ==== ===== ============= ==========\n",
       "\n",
       "Deprecated format names like ``aastex`` will be removed in a future version. Use the full \n",
       "name (e.g. ``ascii.aastex``) instead.\n"
      ]
     },
     "metadata": {},
     "output_type": "display_data"
    }
   ],
   "source": [
    "tic_ids = [\n",
    "    165453878,\n",
    "    169820068,\n",
    "    20215452,\n",
    "    258108067,\n",
    "    271548206,\n",
    "    272074664,\n",
    "    28159019,\n",
    "    9429166,\n",
    "    99254945\n",
    "]\n",
    "unimod_pEDR3_pDR17_pTESS['ID'][np.in1d(unimod_pEDR3_pDR17_pTESS['ID'],tic_ids)]\n",
    "print(len(tic_ids), np.in1d(unimod_pEDR3_pDR17_pTESS['ID'],tic_ids).sum())\n",
    "print(unimod_pEDR3_pDR17_pTESS.info)\n",
    "apogee_tess.write?"
   ]
  },
  {
   "cell_type": "code",
   "execution_count": 85,
   "id": "6abff83d-0a80-4cca-a6d9-5f413109375d",
   "metadata": {},
   "outputs": [
    {
     "name": "stderr",
     "output_type": "stream",
     "text": [
      "WARNING: UnitsWarning: 'log(cm.s**-2)' did not parse as fits unit: 'log' is not a recognized function If this is meant to be a custom unit, define it with 'u.def_unit'. To have it recognized inside a file reader or other code, enable it with 'u.add_enabled_units'. For details, see https://docs.astropy.org/en/latest/units/combining_and_defining.html [astropy.units.core]\n"
     ]
    }
   ],
   "source": [
    "unimod_pEDR3_pDR17_pTESS.write(dd+\"dr17_joker/unimodal_joker_sample_joined_w_tess_edr3_REDUX.fits\",format='fits')"
   ]
  },
  {
   "cell_type": "code",
   "execution_count": null,
   "id": "4ab2d4b4-e361-4e0b-b626-f71810289f60",
   "metadata": {},
   "outputs": [],
   "source": []
  }
 ],
 "metadata": {
  "kernelspec": {
   "display_name": "Python 3 (ipykernel)",
   "language": "python",
   "name": "python3"
  },
  "language_info": {
   "codemirror_mode": {
    "name": "ipython",
    "version": 3
   },
   "file_extension": ".py",
   "mimetype": "text/x-python",
   "name": "python",
   "nbconvert_exporter": "python",
   "pygments_lexer": "ipython3",
   "version": "3.9.6"
  }
 },
 "nbformat": 4,
 "nbformat_minor": 5
}
