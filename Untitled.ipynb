{
 "cells": [
  {
   "cell_type": "code",
   "execution_count": 1,
   "id": "c30c7b6b-eea3-4152-a943-6a9396aa8096",
   "metadata": {},
   "outputs": [
    {
     "name": "stdout",
     "output_type": "stream",
     "text": [
      "running on macOS\n"
     ]
    }
   ],
   "source": [
    "from helper_functions import *\n"
   ]
  },
  {
   "cell_type": "code",
   "execution_count": 2,
   "id": "f6d8904d-f265-4f85-b0fd-f81b4ad1c3c0",
   "metadata": {},
   "outputs": [],
   "source": [
    "def write_a_story_for_system(TIC_TARGET='TIC 20215452', model_type='1x',\n",
    "                    Ntune=1000, Ndraw=500, chains=4, return_dict=False):\n",
    "\n",
    "    file = open(f\"/Users/kjaehnig/CCA_work/GAT/pymc3_models/{TIC_TARGET}_pymc3_Nt{Ntune}_Nd{Ndraw}_Nc{chains}_individual_priors_{model_type}_isochrones.pickle\",'rb')\n",
    "    res_dict = pk.load(file)\n",
    "    file.close()\n",
    "\n",
    "    flat_samps = res_dict['trace'].posterior.stack(sample=('chain','draw'))\n",
    "\n",
    "    m1 = flat_samps['M1'].median().values\n",
    "    r1 = flat_samps['R1'].median().values\n",
    "    logg1 = np.log(m1) - 2.*np.log(r1) + 4.437\n",
    "    stype1 = print_out_stellar_type(m1,r1)\n",
    "\n",
    "    m2 = flat_samps['M2'].median().values\n",
    "    r2 = flat_samps['R2'].median().values\n",
    "    logg2 = np.log(m2) - 2.*np.log(r2) + 4.437\n",
    "    stype2 = print_out_stellar_type(m2,r2)\n",
    "\n",
    "    a = flat_samps['a'].median().values\n",
    "    incl = flat_samps['incl'].median().values\n",
    "    ecc = flat_samps['ecc'].median().values\n",
    "    period = flat_samps['period'].median().values\n",
    "    omega = flat_samps['omega'].median().values\n",
    "\n",
    "    print(f\"Report on {TIC_TARGET}.\")\n",
    "    print(f\"M1 has a mass: {m1:.3f} Msol, radius: {r1:.3f} Rsol, logG: {logg1:3f} and stellar type {stype1}\")\n",
    "    print(f\"M2 has a mass: {m2:.3f} Msol, radius: {r2:.3f} Rsol, logG: {logg2:3f} and stellar type {stype2}\")\n",
    "    print(f\"The binary system has inclination: {incl:.3f}, semi-major axis: {a:.3f} AU, and ecc: {ecc:3f}.\")\n",
    "    print(f\"This binary system has a period of {period:.3f} days.\")\n",
    "\n",
    "    if return_dict:\n",
    "        return {'m1':float(m1),'r1':float(r1),'logg1':logg1,'stype1':stype1,\n",
    "                'm2':float(m2),'r2':float(r2),'logg2':logg2,'stype2':stype2,\n",
    "                'a':a,'incl':incl,'ecc':ecc,'period':period, 'omega':omega}\n",
    "\n",
    "\n",
    "def get_nearest_eep_from_logg(TIC_ID):\n",
    "\n",
    "\n",
    "    eep_dict = {1: 'PMS',\n",
    "         202: 'ZAMS',\n",
    "         353: 'IAMS',\n",
    "         454: 'TAMS',\n",
    "         605: 'RGBTip',\n",
    "         631: 'ZAHB',\n",
    "         707: 'TAHB',\n",
    "         808: 'TPAGB',\n",
    "         1409: 'post-AGB',\n",
    "         1710: 'WDCS'}\n",
    "    primary_eeps = np.array([1, 202, 353, 454, 605, 631, 707, 808, 1409, 1710])\n",
    "\n",
    "    ticparams = get_system_data_for_pymc3_model(TIC_ID.replace(' ','_').replace('-','_'))\n",
    "\n",
    "    FEH = np.float64(ticparams[0]['joker_param']['FE_H'])\n",
    "\n",
    "    sysparams = write_a_story_for_system(TIC_TARGET=TIC_ID,\n",
    "                                        model_type='8x',chains=6,return_dict=True)\n",
    "\n",
    "    print(sysparams)\n",
    "    M1,LOGG1 = sysparams['m1'],sysparams['logg1']\n",
    "    M2,LOGG2 = sysparams['m2'],sysparams['logg2']\n",
    "\n",
    "    valid_eep1,valid_eep2 = [],[]\n",
    "\n",
    "    ages = np.linspace(6, 10.12, 25000)\n",
    "\n",
    "    from isochrones.mist import MIST_EvolutionTrack\n",
    "    mtrack = MIST_EvolutionTrack()\n",
    "\n",
    "    for iage in tqdm(ages):\n",
    "        try:\n",
    "            test_eep1 = mtrack.get_eep_accurate(mass=M1, age=iage, feh=FEH)\n",
    "            valid_eep1.append(test_eep1)\n",
    "        except:\n",
    "            continue\n",
    "\n",
    "        try:\n",
    "            test_eep2 = mtrack.get_eep_accurate(mass=M2, age=iage, feh=FEH)\n",
    "            valid_eep2.append(test_eep2)\n",
    "        except:\n",
    "            continue \n",
    "    print(len(valid_eep1), len(valid_eep2))\n",
    "    valid_logg1 = [mtrack.interp_value([M1, ee, FEH], ['logg'])[0] for ee in valid_eep1]\n",
    "    valid_logg2 = [mtrack.interp_value([M2, ee, FEH], ['logg'])[0] for ee in valid_eep2]\n",
    "\n",
    "    closest_ind1 = np.argmin(abs(np.array(valid_logg1) - LOGG1))\n",
    "    closest_ind2 = np.argmin(abs(np.array(valid_logg2) - LOGG2))\n",
    "    \n",
    "    closest_eep1 = valid_eep1[closest_ind1]\n",
    "    for ii in range(len(primary_eeps)-1):\n",
    "        if closest_eep1 > primary_eeps[ii] and closest_eep1 < primary_eeps[ii+1]:\n",
    "            eep1_range = [primary_eeps[ii],primary_eeps[ii+1]]\n",
    "    \n",
    "    closest_eep2 = valid_eep2[closest_ind2]\n",
    "    for ii in range(len(primary_eeps)-1):\n",
    "        if closest_eep2 > primary_eeps[ii] and closest_eep2 < primary_eeps[ii+1]:\n",
    "            eep2_range = [primary_eeps[ii],primary_eeps[ii+1]]\n",
    "    \n",
    "    \n",
    "#     closest_state1 = primary_eeps[np.argmin(abs(primary_eeps - closest_eep1))]\n",
    "#     closest_state2 = primary_eeps[np.argmin(abs(primary_eeps - closest_eep2))]\n",
    "    if abs(eep1_range[0]-closest_eep1) > abs(eep1_range[1]-closest_eep1): \n",
    "        addl_cmmt1 = f' and approaching the {eep_dict[eep1_range[1]]} state'\n",
    "    else: \n",
    "        addl_cmmt1 = ''\n",
    "    if abs(eep2_range[0]-closest_eep2) > abs(eep2_range[1]-closest_eep2): \n",
    "        addl_cmmt2 = f' and approaching the {eep_dict[eep2_range[1]]} state'\n",
    "    else: \n",
    "        addl_cmmt2 = '' \n",
    "    print(f'M1 appears to be in the {eep_dict[eep1_range[0]]} state'+addl_cmmt1)\n",
    "    print(f'M2 appears to be in the {eep_dict[eep2_range[0]]} state'+addl_cmmt2)\n"
   ]
  },
  {
   "cell_type": "code",
   "execution_count": 3,
   "id": "4902585d-1527-47e4-8ca0-30291483af49",
   "metadata": {},
   "outputs": [
    {
     "name": "stderr",
     "output_type": "stream",
     "text": [
      "Holoviews not imported. Some visualizations will not be available.\n"
     ]
    },
    {
     "name": "stdout",
     "output_type": "stream",
     "text": [
      "Report on TIC 28159019.\n",
      "M1 has a mass: 0.999 Msol, radius: 1.854 Rsol, logG: 3.201226 and stellar type None\n",
      "M2 has a mass: 0.298 Msol, radius: 0.325 Rsol, logG: 5.474251 and stellar type M\n",
      "The binary system has inclination: 1.544, semi-major axis: 12.727 AU, and ecc: 0.003001.\n",
      "This binary system has a period of 4.619 days.\n",
      "{'m1': 0.9992000594809247, 'r1': 1.854261906387822, 'logg1': 3.2012262938618363, 'stype1': 'None', 'm2': 0.2976318753310539, 'r2': 0.32479064782718825, 'logg2': 5.474251055697728, 'stype2': 'M', 'a': array(12.72651583), 'incl': array(1.5442887), 'ecc': array(0.00300096), 'period': array(4.61876246), 'omega': array(-0.79902864)}\n"
     ]
    },
    {
     "name": "stderr",
     "output_type": "stream",
     "text": [
      "100%|████████████████████████████████████| 25000/25000 [03:28<00:00, 119.63it/s]\n"
     ]
    },
    {
     "name": "stdout",
     "output_type": "stream",
     "text": [
      "23947 23947\n",
      "M1 appears to be in the TAMS state\n",
      "M2 appears to be in the PMS state and approaching the ZAMS state\n"
     ]
    }
   ],
   "source": [
    "get_nearest_eep_from_logg(\"TIC 28159019\")"
   ]
  },
  {
   "cell_type": "code",
   "execution_count": 4,
   "id": "d851bafb-5c88-4114-a699-1e85ee518699",
   "metadata": {},
   "outputs": [
    {
     "name": "stdout",
     "output_type": "stream",
     "text": [
      "Report on TIC 272074664.\n",
      "M1 has a mass: 1.394 Msol, radius: 1.832 Rsol, logG: 3.558685 and stellar type None\n",
      "M2 has a mass: 0.647 Msol, radius: 0.603 Rsol, logG: 5.011317 and stellar type None\n",
      "The binary system has inclination: 1.551, semi-major axis: 25.558 AU, and ecc: 0.054588.\n",
      "This binary system has a period of 10.476 days.\n",
      "{'m1': 1.394239027465876, 'r1': 1.8318605224442397, 'logg1': 3.558684507776382, 'stype1': 'None', 'm2': 0.6465002217511314, 'r2': 0.6033549619929107, 'logg2': 5.011317453084014, 'stype2': 'None', 'a': array(25.5581777), 'incl': array(1.55096939), 'ecc': array(0.0545882), 'period': array(10.47625972), 'omega': array(-0.85497569)}\n"
     ]
    },
    {
     "name": "stderr",
     "output_type": "stream",
     "text": [
      "100%|████████████████████████████████████| 25000/25000 [03:12<00:00, 130.04it/s]\n"
     ]
    },
    {
     "name": "stdout",
     "output_type": "stream",
     "text": [
      "22077 22077\n",
      "M1 appears to be in the TAMS state\n",
      "M2 appears to be in the ZAMS state\n",
      "##################################################\n",
      "Report on TIC 20215452.\n",
      "M1 has a mass: 0.677 Msol, radius: 0.792 Rsol, logG: 4.512256 and stellar type K\n",
      "M2 has a mass: 0.324 Msol, radius: 0.348 Rsol, logG: 5.422447 and stellar type M\n",
      "The binary system has inclination: 1.418, semi-major axis: 2.982 AU, and ecc: 0.016094.\n",
      "This binary system has a period of 0.596 days.\n",
      "{'m1': 0.6770682279266642, 'r1': 0.7924548724258053, 'logg1': 4.512256204981884, 'stype1': 'K', 'm2': 0.3242705035627524, 'r2': 0.3479098548264034, 'logg2': 5.422446517262662, 'stype2': 'M', 'a': array(2.98222641), 'incl': array(1.41785473), 'ecc': array(0.01609389), 'period': array(0.59575561), 'omega': array(1.59378621)}\n"
     ]
    },
    {
     "name": "stderr",
     "output_type": "stream",
     "text": [
      "100%|████████████████████████████████████| 25000/25000 [03:19<00:00, 125.34it/s]\n"
     ]
    },
    {
     "name": "stdout",
     "output_type": "stream",
     "text": [
      "25000 25000\n",
      "M1 appears to be in the PMS state and approaching the ZAMS state\n",
      "M2 appears to be in the ZAMS state\n",
      "##################################################\n",
      "Report on TIC 99254945.\n",
      "M1 has a mass: 0.562 Msol, radius: 0.526 Rsol, logG: 5.146728 and stellar type None\n",
      "M2 has a mass: 0.278 Msol, radius: 0.633 Rsol, logG: 4.071739 and stellar type M\n",
      "The binary system has inclination: 1.520, semi-major axis: 15.491 AU, and ecc: 0.007157.\n",
      "This binary system has a period of 7.708 days.\n",
      "{'m1': 0.5615858928989101, 'r1': 0.5255240793292537, 'logg1': 5.146727989863211, 'stype1': 'None', 'm2': 0.27781238612039233, 'r2': 0.6326902501126997, 'logg2': 4.07173936264445, 'stype2': 'M', 'a': array(15.49087811), 'incl': array(1.52036896), 'ecc': array(0.00715704), 'period': array(7.70778868), 'omega': array(2.04839669)}\n"
     ]
    },
    {
     "name": "stderr",
     "output_type": "stream",
     "text": [
      "100%|████████████████████████████████████| 25000/25000 [03:25<00:00, 121.40it/s]\n"
     ]
    },
    {
     "name": "stdout",
     "output_type": "stream",
     "text": [
      "25000 25000\n",
      "M1 appears to be in the ZAMS state\n",
      "M2 appears to be in the PMS state and approaching the ZAMS state\n",
      "##################################################\n",
      "Report on TIC 164458426.\n",
      "M1 has a mass: 1.222 Msol, radius: 1.730 Rsol, logG: 3.540496 and stellar type None\n",
      "M2 has a mass: 0.175 Msol, radius: 0.197 Rsol, logG: 5.945773 and stellar type M\n",
      "The binary system has inclination: 1.548, semi-major axis: 13.187 AU, and ecc: 0.001883.\n",
      "This binary system has a period of 4.693 days.\n",
      "{'m1': 1.2216552511063277, 'r1': 1.7304050237726782, 'logg1': 3.5404957045834067, 'stype1': 'None', 'm2': 0.17473361115977049, 'r2': 0.1965904398160356, 'logg2': 5.945772713320823, 'stype2': 'M', 'a': array(13.18749449), 'incl': array(1.54849673), 'ecc': array(0.00188286), 'period': array(4.69330389), 'omega': array(-0.17436536)}\n"
     ]
    },
    {
     "name": "stderr",
     "output_type": "stream",
     "text": [
      "100%|████████████████████████████████████| 25000/25000 [03:19<00:00, 125.05it/s]\n"
     ]
    },
    {
     "name": "stdout",
     "output_type": "stream",
     "text": [
      "23208 23208\n",
      "M1 appears to be in the TAMS state\n",
      "M2 appears to be in the ZAMS state\n",
      "##################################################\n",
      "Report on TIC 165453878.\n",
      "M1 has a mass: 0.883 Msol, radius: 1.055 Rsol, logG: 4.204208 and stellar type G\n",
      "M2 has a mass: 0.176 Msol, radius: 0.206 Rsol, logG: 5.858895 and stellar type M\n",
      "The binary system has inclination: 1.563, semi-major axis: 8.332 AU, and ecc: 0.002831.\n",
      "This binary system has a period of 2.708 days.\n",
      "{'m1': 0.8825752863738552, 'r1': 1.0554217352838209, 'logg1': 4.204207944257558, 'stype1': 'G', 'm2': 0.1763560164147573, 'r2': 0.20626930607754967, 'logg2': 5.858894799294877, 'stype2': 'M', 'a': array(8.33151391), 'incl': array(1.5631625), 'ecc': array(0.00283117), 'period': array(2.70760133), 'omega': array(-1.51744618)}\n"
     ]
    },
    {
     "name": "stderr",
     "output_type": "stream",
     "text": [
      "100%|████████████████████████████████████| 25000/25000 [03:26<00:00, 120.97it/s]\n"
     ]
    },
    {
     "name": "stdout",
     "output_type": "stream",
     "text": [
      "24923 24923\n",
      "M1 appears to be in the PMS state and approaching the ZAMS state\n",
      "M2 appears to be in the ZAMS state\n",
      "##################################################\n",
      "Report on TIC 258108067.\n",
      "M1 has a mass: 0.688 Msol, radius: 1.603 Rsol, logG: 3.119344 and stellar type None\n",
      "M2 has a mass: 0.437 Msol, radius: 0.491 Rsol, logG: 5.031656 and stellar type M\n",
      "The binary system has inclination: 1.506, semi-major axis: 24.151 AU, and ecc: 0.347844.\n",
      "This binary system has a period of 12.969 days.\n",
      "{'m1': 0.6876555762038592, 'r1': 1.6025469812942092, 'logg1': 3.119344363851976, 'stype1': 'None', 'm2': 0.4368810454914071, 'r2': 0.4909685523813049, 'logg2': 5.031656074628953, 'stype2': 'M', 'a': array(24.15124448), 'incl': array(1.50577053), 'ecc': array(0.34784356), 'period': array(12.9685017), 'omega': array(-2.5962516)}\n"
     ]
    },
    {
     "name": "stderr",
     "output_type": "stream",
     "text": [
      "100%|████████████████████████████████████| 25000/25000 [03:17<00:00, 126.63it/s]\n"
     ]
    },
    {
     "name": "stdout",
     "output_type": "stream",
     "text": [
      "25000 25000\n",
      "M1 appears to be in the PMS state and approaching the ZAMS state\n",
      "M2 appears to be in the ZAMS state\n",
      "##################################################\n",
      "Report on TIC 164527723.\n",
      "M1 has a mass: 1.001 Msol, radius: 1.694 Rsol, logG: 3.383997 and stellar type None\n",
      "M2 has a mass: 0.168 Msol, radius: 0.232 Rsol, logG: 5.574360 and stellar type M\n",
      "The binary system has inclination: 1.452, semi-major axis: 8.683 AU, and ecc: 0.005972.\n",
      "This binary system has a period of 2.740 days.\n",
      "{'m1': 1.0007878302438251, 'r1': 1.6936653232913752, 'logg1': 3.3839974985335934, 'stype1': 'None', 'm2': 0.16759142659972903, 'r2': 0.2318201937093239, 'logg2': 5.5743602236570595, 'stype2': 'M', 'a': array(8.68258914), 'incl': array(1.45191819), 'ecc': array(0.0059716), 'period': array(2.73987046), 'omega': array(1.36804868)}\n"
     ]
    },
    {
     "name": "stderr",
     "output_type": "stream",
     "text": [
      "100%|████████████████████████████████████| 25000/25000 [03:22<00:00, 123.29it/s]\n"
     ]
    },
    {
     "name": "stdout",
     "output_type": "stream",
     "text": [
      "24489 24489\n",
      "M1 appears to be in the TAMS state\n",
      "M2 appears to be in the ZAMS state\n",
      "##################################################\n"
     ]
    }
   ],
   "source": [
    "good_tic_systems_of_interest = [\n",
    "#     28159019,\n",
    "    272074664,\n",
    "    20215452,\n",
    "    99254945,\n",
    "    164458426,\n",
    "    165453878,\n",
    "    258108067,\n",
    "    164527723,\n",
    "    ]\n",
    "for tic in good_tic_systems_of_interest:\n",
    "    get_nearest_eep_from_logg(f\"TIC {tic}\")\n",
    "    print(\"#\"*50)"
   ]
  },
  {
   "cell_type": "code",
   "execution_count": null,
   "id": "ce07e734-ca31-4e44-97da-0bb0cb6c22ff",
   "metadata": {},
   "outputs": [],
   "source": []
  }
 ],
 "metadata": {
  "kernelspec": {
   "display_name": "Python 3 (ipykernel)",
   "language": "python",
   "name": "python3"
  },
  "language_info": {
   "codemirror_mode": {
    "name": "ipython",
    "version": 3
   },
   "file_extension": ".py",
   "mimetype": "text/x-python",
   "name": "python",
   "nbconvert_exporter": "python",
   "pygments_lexer": "ipython3",
   "version": "3.9.6"
  }
 },
 "nbformat": 4,
 "nbformat_minor": 5
}
