{
 "cells": [
  {
   "cell_type": "code",
   "execution_count": 1,
   "id": "05e68d4f",
   "metadata": {},
   "outputs": [
    {
     "name": "stdout",
     "output_type": "stream",
     "text": [
      "Populating the interactive namespace from numpy and matplotlib\n",
      "4.3.1\n"
     ]
    }
   ],
   "source": [
    "import lightkurve as lk\n",
    "import astropy.table as astab\n",
    "import pandas as pd\n",
    "import astropy\n",
    "from astropy.coordinates import SkyCoord\n",
    "from astropy import units as u\n",
    "import matplotlib.pyplot as plt\n",
    "from tqdm import tqdm\n",
    "%pylab inline\n",
    "pylab.rcParams['figure.figsize'] = (16, 8)\n",
    "import warnings\n",
    "\n",
    "warnings.filterwarnings(\"ignore\",message='ERROR:lightkurve.search')\n",
    "# warnings.filterwarnings('ignore', message=f'No data found for target')\n",
    "print(astropy.__version__)\n",
    "\n",
    "import pymc3 as pm\n",
    "import pymc3_ext as pmx\n",
    "import aesara_theano_fallback.tensor as tt\n",
    "import exoplanet as xo\n",
    "\n",
    "import arviz as az\n",
    "from corner import corner\n",
    "\n",
    "\n",
    "\n",
    "dd = \"/Users/kjaehnig/CCA_work/GAT/\""
   ]
  },
  {
   "cell_type": "code",
   "execution_count": null,
   "id": "31e372a0",
   "metadata": {},
   "outputs": [],
   "source": [
    "target_tic = 'TIC 20215452'\n",
    "\n",
    "target_lk = lk.search_lightcurve(target_tic,\n",
    "             mission='TESS',\n",
    "            cadence='short',\n",
    "            author='SPOC'\n",
    "             )\n",
    "\n",
    "lks = target_lk.download_all(quality_bitmask='hardest').stitch(\n",
    "        ).flatten(window_length=201)#.remove_outliers(sigma_lower=10**9, sigma_upper=.5)\n",
    "\n",
    "jk_row = hq_jk_allstar_tess_edr3[hq_jk_allstar_tess_edr3['ID']==int(target_tic.split(' ')[1])][0]\n",
    "periods = np.linspace(max(0.34,jk_row['MAP_P']-jk_row['MAP_P_err']), \n",
    "                    min(jk_row['MAP_P']+0.5*jk_row['MAP_P'],jk_row['MAP_P']+jk_row['MAP_P_err'])\n",
    "                      ,1000)\n",
    "joker_per = jk_row['MAP_P']\n",
    "print(joker_per, jk_row['MAP_P_err'])\n",
    "\n"
   ]
  }
 ],
 "metadata": {
  "kernelspec": {
   "display_name": "Python 3 (ipykernel)",
   "language": "python",
   "name": "python3"
  },
  "language_info": {
   "codemirror_mode": {
    "name": "ipython",
    "version": 3
   },
   "file_extension": ".py",
   "mimetype": "text/x-python",
   "name": "python",
   "nbconvert_exporter": "python",
   "pygments_lexer": "ipython3",
   "version": "3.9.6"
  }
 },
 "nbformat": 4,
 "nbformat_minor": 5
}
